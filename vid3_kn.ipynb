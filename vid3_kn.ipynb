{
  "nbformat": 4,
  "nbformat_minor": 0,
  "metadata": {
    "colab": {
      "provenance": []
    },
    "kernelspec": {
      "name": "python3",
      "display_name": "Python 3"
    },
    "language_info": {
      "name": "python"
    }
  },
  "cells": [
    {
      "cell_type": "code",
      "execution_count": 1,
      "metadata": {
        "id": "QIqMdQkMLE3Y"
      },
      "outputs": [],
      "source": [
        "# Python Control Flow"
      ]
    },
    {
      "cell_type": "code",
      "source": [
        "# if statement\n",
        "\n",
        "val=input(\"enter the number\")\n",
        "value_float = float(val)\n",
        "if(value_float%2==0):\n",
        "  print(\"the no is even\")\n"
      ],
      "metadata": {
        "colab": {
          "base_uri": "https://localhost:8080/"
        },
        "id": "HTzH3NTHLSR7",
        "outputId": "21cde01d-9f89-4d20-b04c-7b7e4f321bb0"
      },
      "execution_count": 7,
      "outputs": [
        {
          "name": "stdout",
          "output_type": "stream",
          "text": [
            "enter the number13\n"
          ]
        }
      ]
    },
    {
      "cell_type": "code",
      "source": [
        "10%2==0"
      ],
      "metadata": {
        "colab": {
          "base_uri": "https://localhost:8080/"
        },
        "id": "--5El_SeL6Pd",
        "outputId": "94bb9966-331e-41b6-d1ee-0766c75da218"
      },
      "execution_count": 6,
      "outputs": [
        {
          "output_type": "execute_result",
          "data": {
            "text/plain": [
              "True"
            ]
          },
          "metadata": {},
          "execution_count": 6
        }
      ]
    },
    {
      "cell_type": "code",
      "source": [
        "val=input(\"enter the number\")\n",
        "value_float = float(val)\n",
        "if(value_float%2==0):\n",
        "  print(\"the no is even\")\n",
        "else:\n",
        "  print(\"the no is odd\")"
      ],
      "metadata": {
        "colab": {
          "base_uri": "https://localhost:8080/"
        },
        "id": "SStzzW7uM0O4",
        "outputId": "5c016f10-4221-4b23-957e-639bf82a68f3"
      },
      "execution_count": 8,
      "outputs": [
        {
          "output_type": "stream",
          "name": "stdout",
          "text": [
            "enter the number13\n",
            "the no is odd\n"
          ]
        }
      ]
    },
    {
      "cell_type": "code",
      "source": [
        "age=float(input(\"enter the age\"))\n",
        "\n",
        "if(age<18):\n",
        "  print (\"you are minor\")\n",
        "else:\n",
        "  print(\"you are no minor\")"
      ],
      "metadata": {
        "colab": {
          "base_uri": "https://localhost:8080/"
        },
        "id": "0gFWAqJmNuT9",
        "outputId": "3300e9e7-71d3-4828-cdbf-ed7a56f56929"
      },
      "execution_count": 9,
      "outputs": [
        {
          "output_type": "stream",
          "name": "stdout",
          "text": [
            "enter the age14\n",
            "you are minor\n"
          ]
        }
      ]
    },
    {
      "cell_type": "code",
      "source": [
        "##Nested If-else\n",
        "age=float(input(\"enter the age\"))\n",
        "\n",
        "if(age<18):\n",
        "  print (\"you are minor\")\n",
        "elif(age>=18 and age<=35):\n",
        "  print(\"you are mid age\")\n",
        "else:\n",
        "  print(\"you are old\")"
      ],
      "metadata": {
        "colab": {
          "base_uri": "https://localhost:8080/"
        },
        "id": "oXUSF87OOVeA",
        "outputId": "ee52adb5-65fe-4791-f867-e3569762ce89"
      },
      "execution_count": 12,
      "outputs": [
        {
          "output_type": "stream",
          "name": "stdout",
          "text": [
            "enter the age77\n",
            "you are old\n"
          ]
        }
      ]
    },
    {
      "cell_type": "code",
      "source": [
        "age=float(input(\"enter the age\"))\n",
        "if(age<18):\n",
        "  print (\"you are minor\")\n",
        "  if(age<15):\n",
        "    print(\"you are in school\")\n",
        "  else:\n",
        "    print(\"you are in college\")\n",
        "elif(age>=18 and age<=35):\n",
        "  print(\"you are mid age\")\n",
        "else:\n",
        "  print(\"you are old\")"
      ],
      "metadata": {
        "colab": {
          "base_uri": "https://localhost:8080/"
        },
        "id": "-ycMvU_tO2Vu",
        "outputId": "1064669a-4ce1-4434-f0c3-fdc3e0a516c8"
      },
      "execution_count": 1,
      "outputs": [
        {
          "output_type": "stream",
          "name": "stdout",
          "text": [
            "enter the age13\n",
            "you are minor\n",
            "you are in school\n"
          ]
        }
      ]
    },
    {
      "cell_type": "code",
      "source": [
        "#Loops statement\n",
        "## for loops, while loops\n",
        "\n",
        "lst=[1,2,3,4,5,6,7]\n",
        "for i in lst:\n",
        "  print(i*3)"
      ],
      "metadata": {
        "colab": {
          "base_uri": "https://localhost:8080/"
        },
        "id": "SJRwick2Y-dK",
        "outputId": "b4e29605-d5be-40ae-bc3a-2d297da8cab2"
      },
      "execution_count": 3,
      "outputs": [
        {
          "output_type": "stream",
          "name": "stdout",
          "text": [
            "3\n",
            "6\n",
            "9\n",
            "12\n",
            "15\n",
            "18\n",
            "21\n"
          ]
        }
      ]
    },
    {
      "cell_type": "code",
      "source": [
        "#find the sum of all the element in the list\n",
        "lst=[1,2,3,4,5,6,7]\n",
        "sum1=0\n",
        "for i in lst:\n",
        "   sum1=sum1+i\n",
        "print(sum1)"
      ],
      "metadata": {
        "colab": {
          "base_uri": "https://localhost:8080/"
        },
        "id": "YfH67XbxZ0-m",
        "outputId": "fd4166cc-a01f-4aad-bb96-328fe4bd7ecf"
      },
      "execution_count": 5,
      "outputs": [
        {
          "output_type": "stream",
          "name": "stdout",
          "text": [
            "28\n"
          ]
        }
      ]
    },
    {
      "cell_type": "code",
      "source": [
        "lst=[1,2,3,4,5,6,7,7,8,9]\n",
        "sum1=0\n",
        "sum2=0\n",
        "for i in lst:\n",
        "  if(i%2==0):\n",
        "    sum1=sum1+i\n",
        "  else:\n",
        "    sum2=sum2+i\n",
        "\n",
        "#string formatting\n",
        "print(\"the even sum is {a} and the odd sum is {b}\".format(a=sum1,b=sum2))\n"
      ],
      "metadata": {
        "colab": {
          "base_uri": "https://localhost:8080/"
        },
        "id": "CTmY979fZ4j_",
        "outputId": "20043e76-a860-464b-a490-b7176d2f4411"
      },
      "execution_count": 8,
      "outputs": [
        {
          "output_type": "stream",
          "name": "stdout",
          "text": [
            "the even sum is 20 and the odd sum is 32\n"
          ]
        }
      ]
    },
    {
      "cell_type": "code",
      "source": [
        "# While Condition\n",
        "\n",
        "i=0\n",
        "while(i<=10):\n",
        "  if(i%3==0):\n",
        "    print(i*8)\n",
        "  else:\n",
        "    print(i*9)\n",
        "  i=i+1"
      ],
      "metadata": {
        "colab": {
          "base_uri": "https://localhost:8080/"
        },
        "id": "EhH8EIDOc4yU",
        "outputId": "0884d0ec-ddc3-4bb5-adc7-8298860a2338"
      },
      "execution_count": 9,
      "outputs": [
        {
          "output_type": "stream",
          "name": "stdout",
          "text": [
            "0\n",
            "9\n",
            "18\n",
            "24\n",
            "36\n",
            "45\n",
            "48\n",
            "63\n",
            "72\n",
            "72\n",
            "90\n"
          ]
        }
      ]
    },
    {
      "cell_type": "code",
      "source": [
        "#break\n",
        "x=1\n",
        "while(x<8):\n",
        "  print(x)\n",
        "  if(x==4):\n",
        "    break\n",
        "\n",
        "  x=x+1"
      ],
      "metadata": {
        "colab": {
          "base_uri": "https://localhost:8080/"
        },
        "id": "w02Ll7BFeM-S",
        "outputId": "1a4419b0-849e-4400-d6ed-ad0968be6073"
      },
      "execution_count": 11,
      "outputs": [
        {
          "output_type": "stream",
          "name": "stdout",
          "text": [
            "1\n",
            "2\n",
            "3\n",
            "4\n"
          ]
        }
      ]
    },
    {
      "cell_type": "code",
      "source": [
        "# Continue\n",
        "x=0\n",
        "while(x<7):\n",
        "  x=x+1\n",
        "  if(x==4):\n",
        "    continue\n",
        "  print(x)"
      ],
      "metadata": {
        "colab": {
          "base_uri": "https://localhost:8080/"
        },
        "id": "V6tsz_kGecA3",
        "outputId": "ff80f202-4641-471f-ddae-7e9bda7ff4ef"
      },
      "execution_count": 12,
      "outputs": [
        {
          "output_type": "stream",
          "name": "stdout",
          "text": [
            "1\n",
            "2\n",
            "3\n",
            "5\n",
            "6\n",
            "7\n"
          ]
        }
      ]
    }
  ]
}