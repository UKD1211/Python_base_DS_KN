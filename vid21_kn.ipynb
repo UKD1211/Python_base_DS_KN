{
  "nbformat": 4,
  "nbformat_minor": 0,
  "metadata": {
    "colab": {
      "provenance": []
    },
    "kernelspec": {
      "name": "python3",
      "display_name": "Python 3"
    },
    "language_info": {
      "name": "python"
    }
  },
  "cells": [
    {
      "cell_type": "code",
      "execution_count": 1,
      "metadata": {
        "id": "8RcWWccD_mWF"
      },
      "outputs": [],
      "source": [
        "#  Python List Comprehensions"
      ]
    },
    {
      "cell_type": "code",
      "source": [
        "type([1,2,33])"
      ],
      "metadata": {
        "colab": {
          "base_uri": "https://localhost:8080/"
        },
        "id": "LkrYKT5bIqUf",
        "outputId": "fa59b7e1-f287-48bb-b2cd-59f2c02a9aa1"
      },
      "execution_count": 2,
      "outputs": [
        {
          "output_type": "execute_result",
          "data": {
            "text/plain": [
              "list"
            ]
          },
          "metadata": {},
          "execution_count": 2
        }
      ]
    },
    {
      "cell_type": "code",
      "source": [
        "lst=[]\n",
        "for i in range (0,9):\n",
        "  lst.append(i)\n",
        "\n",
        "print (lst)\n",
        "\n"
      ],
      "metadata": {
        "colab": {
          "base_uri": "https://localhost:8080/"
        },
        "id": "u_1vzBW6I4EY",
        "outputId": "bbfe3643-975d-4742-db6d-4547e05371a9"
      },
      "execution_count": 3,
      "outputs": [
        {
          "output_type": "stream",
          "name": "stdout",
          "text": [
            "[0, 1, 2, 3, 4, 5, 6, 7, 8]\n"
          ]
        }
      ]
    },
    {
      "cell_type": "code",
      "source": [
        "lst = [1,2,3,4,5,6]\n",
        "lst2 = []\n",
        "\n",
        "for i in lst:\n",
        "  lst2.append(i**2)\n",
        "\n",
        "print (lst2 )"
      ],
      "metadata": {
        "colab": {
          "base_uri": "https://localhost:8080/"
        },
        "id": "-VgQS3rmJEzx",
        "outputId": "58cb55da-72d2-48f7-8150-f1d186379d4d"
      },
      "execution_count": 5,
      "outputs": [
        {
          "output_type": "stream",
          "name": "stdout",
          "text": [
            "[1, 4, 9, 16, 25, 36]\n"
          ]
        }
      ]
    },
    {
      "cell_type": "code",
      "source": [
        "numbers = [1,2,3,4,5]\n",
        "\n",
        "# list comprehension\n",
        "squard_numbers = [i**2 for i in numbers]\n",
        "print (squard_numbers)"
      ],
      "metadata": {
        "colab": {
          "base_uri": "https://localhost:8080/"
        },
        "id": "yc_Hrty5Je_x",
        "outputId": "4c944b5e-f6d2-4054-c3b4-d78db557eecd"
      },
      "execution_count": 7,
      "outputs": [
        {
          "output_type": "stream",
          "name": "stdout",
          "text": [
            "[1, 4, 9, 16, 25]\n"
          ]
        }
      ]
    },
    {
      "cell_type": "code",
      "source": [
        "# Filtering a even number from a list"
      ],
      "metadata": {
        "id": "wFh_9glOKfNO"
      },
      "execution_count": 8,
      "outputs": []
    },
    {
      "cell_type": "code",
      "source": [
        "numbers = [1,2,3,4,5,6,7]\n",
        "even_numbers = [i for i in numbers if i%2==0]\n",
        "print(even_numbers)"
      ],
      "metadata": {
        "colab": {
          "base_uri": "https://localhost:8080/"
        },
        "id": "53y2N7G_Kx7K",
        "outputId": "fbafaf45-afdc-4588-f2c6-93fe10df6cc7"
      },
      "execution_count": 9,
      "outputs": [
        {
          "output_type": "stream",
          "name": "stdout",
          "text": [
            "[2, 4, 6]\n"
          ]
        }
      ]
    },
    {
      "cell_type": "code",
      "source": [
        "# Flattening A list of Lists"
      ],
      "metadata": {
        "id": "eOC8pQiQLLTf"
      },
      "execution_count": 11,
      "outputs": []
    },
    {
      "cell_type": "code",
      "source": [
        "lists = [[1,2,3],[2,3,4],[7,8,9]]\n",
        "flattened_list = [i for sublist in lists for i in sublist]\n",
        "print(flattened_list)"
      ],
      "metadata": {
        "colab": {
          "base_uri": "https://localhost:8080/"
        },
        "id": "nxRw3MqgLS2U",
        "outputId": "42ab54b8-aa67-411e-fee7-a21dfdfa80f4"
      },
      "execution_count": 1,
      "outputs": [
        {
          "output_type": "stream",
          "name": "stdout",
          "text": [
            "[1, 2, 3, 2, 3, 4, 7, 8, 9]\n"
          ]
        }
      ]
    },
    {
      "cell_type": "code",
      "source": [
        "# Generate a lists of the 1st letters of the first letters of the words in a list:"
      ],
      "metadata": {
        "id": "i9Pnf3lqq8CP"
      },
      "execution_count": 2,
      "outputs": []
    },
    {
      "cell_type": "code",
      "source": [
        "lst = []\n",
        "words = ['apple','mango','cherry']\n",
        "for i in words:\n",
        "  print(i[0])\n",
        "  lst.append(i[0])\n",
        "\n",
        "print(lst)"
      ],
      "metadata": {
        "colab": {
          "base_uri": "https://localhost:8080/"
        },
        "id": "6ijecV5ArHaL",
        "outputId": "b095baaf-a37e-4812-f463-fbe49539e62c"
      },
      "execution_count": 3,
      "outputs": [
        {
          "output_type": "stream",
          "name": "stdout",
          "text": [
            "a\n",
            "m\n",
            "c\n",
            "['a', 'm', 'c']\n"
          ]
        }
      ]
    },
    {
      "cell_type": "code",
      "source": [
        "# Generating a list of the square of even nos\n",
        "lst_square_even = []\n",
        "def square_even(lst):\n",
        "  for i in lst:\n",
        "    if (i%2 == 0):\n",
        "      lst_square_even.append(i**2)\n",
        "  return lst_square_even\n",
        "\n",
        ""
      ],
      "metadata": {
        "id": "pAzKOA9OrvKX"
      },
      "execution_count": 9,
      "outputs": []
    },
    {
      "cell_type": "code",
      "source": [
        "square_even([1,2,3,4,5,6])"
      ],
      "metadata": {
        "colab": {
          "base_uri": "https://localhost:8080/"
        },
        "id": "i16IES6zs2XD",
        "outputId": "e59851fd-0e2a-4edd-f8bb-74fb8ca804a2"
      },
      "execution_count": 10,
      "outputs": [
        {
          "output_type": "execute_result",
          "data": {
            "text/plain": [
              "[4, 16, 36]"
            ]
          },
          "metadata": {},
          "execution_count": 10
        }
      ]
    },
    {
      "cell_type": "code",
      "source": [
        "integer_lst = []\n",
        "lst = ['1','2','3']\n",
        "for  i in lst :\n",
        "  integer_lst.append(int(i))\n",
        "print(integer_lst)"
      ],
      "metadata": {
        "colab": {
          "base_uri": "https://localhost:8080/"
        },
        "id": "1Oeq-yUts5RC",
        "outputId": "37e15f58-da15-48cc-8ba0-b60738f7d259"
      },
      "execution_count": 11,
      "outputs": [
        {
          "output_type": "stream",
          "name": "stdout",
          "text": [
            "[1, 2, 3]\n"
          ]
        }
      ]
    },
    {
      "cell_type": "code",
      "source": [
        "# ALL divisors of a number\n",
        "\n",
        "no_lst = []\n",
        "\n",
        "def divisors(n):\n",
        "  for i in range(1, (n+1)):\n",
        "    if(n%i == 0):\n",
        "      no_lst.append(i)\n",
        "  return no_lst\n",
        "\n",
        ""
      ],
      "metadata": {
        "id": "ndIQ_-qmu2Pw"
      },
      "execution_count": 12,
      "outputs": []
    },
    {
      "cell_type": "code",
      "source": [
        "n = 14\n",
        "divisors(n)"
      ],
      "metadata": {
        "colab": {
          "base_uri": "https://localhost:8080/"
        },
        "id": "6NFRwWMOwjwd",
        "outputId": "4fbf53eb-baf2-4a69-febd-a6e654bb347b"
      },
      "execution_count": 13,
      "outputs": [
        {
          "output_type": "execute_result",
          "data": {
            "text/plain": [
              "[1, 2, 7, 14]"
            ]
          },
          "metadata": {},
          "execution_count": 13
        }
      ]
    },
    {
      "cell_type": "code",
      "source": [
        "# one line\n",
        "\n",
        "number = 10\n",
        "[i for i in range(1,number+1) if number%i==0]"
      ],
      "metadata": {
        "colab": {
          "base_uri": "https://localhost:8080/"
        },
        "id": "Z2TyC3PMwnnD",
        "outputId": "08b57611-f3e8-45f2-c27d-78eadda03b1a"
      },
      "execution_count": 14,
      "outputs": [
        {
          "output_type": "execute_result",
          "data": {
            "text/plain": [
              "[1, 2, 5, 10]"
            ]
          },
          "metadata": {},
          "execution_count": 14
        }
      ]
    },
    {
      "cell_type": "code",
      "source": [],
      "metadata": {
        "id": "v5R1XXh8xCbq"
      },
      "execution_count": null,
      "outputs": []
    }
  ]
}