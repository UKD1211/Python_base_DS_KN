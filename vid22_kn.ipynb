{
  "nbformat": 4,
  "nbformat_minor": 0,
  "metadata": {
    "colab": {
      "provenance": []
    },
    "kernelspec": {
      "name": "python3",
      "display_name": "Python 3"
    },
    "language_info": {
      "name": "python"
    }
  },
  "cells": [
    {
      "cell_type": "code",
      "execution_count": 1,
      "metadata": {
        "id": "w0UTRAJN-lUJ"
      },
      "outputs": [],
      "source": [
        "# Lambda function"
      ]
    },
    {
      "cell_type": "code",
      "source": [
        "f = lambda x,y: x+y\n",
        "f"
      ],
      "metadata": {
        "colab": {
          "base_uri": "https://localhost:8080/"
        },
        "id": "ZfnsgvujBuRb",
        "outputId": "ec7cb94d-0a36-4ebd-9a38-9008a9f6f9f8"
      },
      "execution_count": 2,
      "outputs": [
        {
          "output_type": "execute_result",
          "data": {
            "text/plain": [
              "<function __main__.<lambda>(x, y)>"
            ]
          },
          "metadata": {},
          "execution_count": 2
        }
      ]
    },
    {
      "cell_type": "code",
      "source": [
        "f(5,6)"
      ],
      "metadata": {
        "colab": {
          "base_uri": "https://localhost:8080/"
        },
        "id": "3NAPXiRsC2OO",
        "outputId": "c47b6f7c-154c-4e57-8d26-21a35166bc64"
      },
      "execution_count": 3,
      "outputs": [
        {
          "output_type": "execute_result",
          "data": {
            "text/plain": [
              "11"
            ]
          },
          "metadata": {},
          "execution_count": 3
        }
      ]
    },
    {
      "cell_type": "code",
      "source": [
        "multiply = lambda x,y: x*y\n",
        "multiply(3,4)"
      ],
      "metadata": {
        "colab": {
          "base_uri": "https://localhost:8080/"
        },
        "id": "HeAaGnruC7SY",
        "outputId": "01348c22-2b45-4d90-b412-8df3cafa3f9f"
      },
      "execution_count": 5,
      "outputs": [
        {
          "output_type": "execute_result",
          "data": {
            "text/plain": [
              "12"
            ]
          },
          "metadata": {},
          "execution_count": 5
        }
      ]
    },
    {
      "cell_type": "code",
      "source": [
        "# return the length of the string\n",
        "length = lambda x: len(x)\n",
        "length('hello')"
      ],
      "metadata": {
        "colab": {
          "base_uri": "https://localhost:8080/"
        },
        "id": "1_cjPa9NDeDZ",
        "outputId": "d14645dc-ffb9-4f47-aa9d-9abc52521a9a"
      },
      "execution_count": 6,
      "outputs": [
        {
          "output_type": "execute_result",
          "data": {
            "text/plain": [
              "5"
            ]
          },
          "metadata": {},
          "execution_count": 6
        }
      ]
    },
    {
      "cell_type": "code",
      "source": [
        "squard_list = lambda lst: [x**2 for x in lst]\n",
        "squard_list([1,2,3,4,5])"
      ],
      "metadata": {
        "colab": {
          "base_uri": "https://localhost:8080/"
        },
        "id": "d5zC5UnjDu7F",
        "outputId": "db3ed5b4-eb2c-496a-f8d8-b889c2cb838e"
      },
      "execution_count": 7,
      "outputs": [
        {
          "output_type": "execute_result",
          "data": {
            "text/plain": [
              "[1, 4, 9, 16, 25]"
            ]
          },
          "metadata": {},
          "execution_count": 7
        }
      ]
    },
    {
      "cell_type": "code",
      "source": [
        "numbers = [1,2,3,4,5,6]\n",
        "\n",
        "even_numbers = lambda numbers:[i for i in numbers if i%2==0]\n",
        "even_numbers(numbers)"
      ],
      "metadata": {
        "colab": {
          "base_uri": "https://localhost:8080/"
        },
        "id": "u_Q1DRBNFxOs",
        "outputId": "e6645838-3c05-4244-92f0-da2d8c13f0b4"
      },
      "execution_count": 8,
      "outputs": [
        {
          "output_type": "execute_result",
          "data": {
            "text/plain": [
              "[2, 4, 6]"
            ]
          },
          "metadata": {},
          "execution_count": 8
        }
      ]
    },
    {
      "cell_type": "code",
      "source": [
        "strings = ['apple','mango','ass','name']\n",
        "\n",
        "sort_strings = lambda strings: sorted(strings,key=lambda x: len(x))\n",
        "sort_strings(strings)"
      ],
      "metadata": {
        "colab": {
          "base_uri": "https://localhost:8080/"
        },
        "id": "Qs_fI0ucGUcM",
        "outputId": "3943e8ca-e1f4-4e50-c0cb-dd97f4c1a927"
      },
      "execution_count": 9,
      "outputs": [
        {
          "output_type": "execute_result",
          "data": {
            "text/plain": [
              "['ass', 'name', 'apple', 'mango']"
            ]
          },
          "metadata": {},
          "execution_count": 9
        }
      ]
    },
    {
      "cell_type": "code",
      "source": [
        "sorted(strings, key=lambda x: len(x))"
      ],
      "metadata": {
        "colab": {
          "base_uri": "https://localhost:8080/"
        },
        "id": "Lwkhi-UDHcO4",
        "outputId": "9e818c69-4767-43ae-f272-7fbaa6070e38"
      },
      "execution_count": 10,
      "outputs": [
        {
          "output_type": "execute_result",
          "data": {
            "text/plain": [
              "['ass', 'name', 'apple', 'mango']"
            ]
          },
          "metadata": {},
          "execution_count": 10
        }
      ]
    },
    {
      "cell_type": "code",
      "source": [
        "people = [\n",
        "    {'name': 'Alice', 'age': 25, 'occupation': 'Engineer'},\n",
        "    {'name': 'Bob', 'age': 30, 'occupation': 'Manager'},\n",
        "    {'name': 'Charlie', 'age': 22, 'occupation': 'Intern'},\n",
        "    {'name': 'Dave', 'age': 27, 'occupation': 'Designer'},\n",
        "]"
      ],
      "metadata": {
        "id": "5mG_2Mt_ItdJ"
      },
      "execution_count": 11,
      "outputs": []
    },
    {
      "cell_type": "code",
      "source": [
        "sorted(people, key=lambda x: x['age'])"
      ],
      "metadata": {
        "colab": {
          "base_uri": "https://localhost:8080/"
        },
        "id": "DpUryS7yJF-B",
        "outputId": "d0424cac-39c7-4e12-dfc5-b56da0973b02"
      },
      "execution_count": 12,
      "outputs": [
        {
          "output_type": "execute_result",
          "data": {
            "text/plain": [
              "[{'name': 'Charlie', 'age': 22, 'occupation': 'Intern'},\n",
              " {'name': 'Alice', 'age': 25, 'occupation': 'Engineer'},\n",
              " {'name': 'Dave', 'age': 27, 'occupation': 'Designer'},\n",
              " {'name': 'Bob', 'age': 30, 'occupation': 'Manager'}]"
            ]
          },
          "metadata": {},
          "execution_count": 12
        }
      ]
    },
    {
      "cell_type": "code",
      "source": [
        "sorted(people, key=lambda x: (x['age'],x['name']))"
      ],
      "metadata": {
        "colab": {
          "base_uri": "https://localhost:8080/"
        },
        "id": "oiEYBSwWJh0T",
        "outputId": "24de817d-9f9e-4816-a9f1-0e5b3eb45e74"
      },
      "execution_count": 13,
      "outputs": [
        {
          "output_type": "execute_result",
          "data": {
            "text/plain": [
              "[{'name': 'Charlie', 'age': 22, 'occupation': 'Intern'},\n",
              " {'name': 'Alice', 'age': 25, 'occupation': 'Engineer'},\n",
              " {'name': 'Dave', 'age': 27, 'occupation': 'Designer'},\n",
              " {'name': 'Bob', 'age': 30, 'occupation': 'Manager'}]"
            ]
          },
          "metadata": {},
          "execution_count": 13
        }
      ]
    },
    {
      "cell_type": "code",
      "source": [
        "data = {'a': 10, 'b': 5, 'c': 20}"
      ],
      "metadata": {
        "id": "q82iHqY9JqVs"
      },
      "execution_count": 14,
      "outputs": []
    },
    {
      "cell_type": "code",
      "source": [
        "max_value = lambda data: [i for i in data.values()]\n",
        "max_value(data)"
      ],
      "metadata": {
        "colab": {
          "base_uri": "https://localhost:8080/"
        },
        "id": "9ykEp-LtJ3b2",
        "outputId": "9251cc25-f29a-413f-d9f6-87c1e00ee305"
      },
      "execution_count": 15,
      "outputs": [
        {
          "output_type": "execute_result",
          "data": {
            "text/plain": [
              "[10, 5, 20]"
            ]
          },
          "metadata": {},
          "execution_count": 15
        }
      ]
    },
    {
      "cell_type": "code",
      "source": [
        "max(data, key = lambda x: data[x])"
      ],
      "metadata": {
        "colab": {
          "base_uri": "https://localhost:8080/",
          "height": 36
        },
        "id": "HWoEbtTWKRkN",
        "outputId": "6ab67865-7662-4f6f-a67d-54aa46ba0ff7"
      },
      "execution_count": 16,
      "outputs": [
        {
          "output_type": "execute_result",
          "data": {
            "text/plain": [
              "'c'"
            ],
            "application/vnd.google.colaboratory.intrinsic+json": {
              "type": "string"
            }
          },
          "metadata": {},
          "execution_count": 16
        }
      ]
    },
    {
      "cell_type": "code",
      "source": [
        "list = ['apple','mango','ass']"
      ],
      "metadata": {
        "id": "MBJnLIIdKflg"
      },
      "execution_count": 17,
      "outputs": []
    },
    {
      "cell_type": "code",
      "source": [
        "group_list = lambda list: [i[0] for i in list]\n",
        "sorted(group_list(list))"
      ],
      "metadata": {
        "colab": {
          "base_uri": "https://localhost:8080/"
        },
        "id": "K9Fs7IHoK2AT",
        "outputId": "2c445abf-fd63-4e54-89c3-35c32193434d"
      },
      "execution_count": 19,
      "outputs": [
        {
          "output_type": "execute_result",
          "data": {
            "text/plain": [
              "['a', 'a', 'm']"
            ]
          },
          "metadata": {},
          "execution_count": 19
        }
      ]
    },
    {
      "cell_type": "code",
      "source": [],
      "metadata": {
        "id": "htMV_aJ0LH7U"
      },
      "execution_count": null,
      "outputs": []
    }
  ]
}