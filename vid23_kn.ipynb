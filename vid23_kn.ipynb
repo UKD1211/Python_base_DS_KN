{
  "nbformat": 4,
  "nbformat_minor": 0,
  "metadata": {
    "colab": {
      "provenance": []
    },
    "kernelspec": {
      "name": "python3",
      "display_name": "Python 3"
    },
    "language_info": {
      "name": "python"
    }
  },
  "cells": [
    {
      "cell_type": "code",
      "execution_count": 1,
      "metadata": {
        "id": "06FOj6npcY_r"
      },
      "outputs": [],
      "source": [
        "# Python Data Classes"
      ]
    },
    {
      "cell_type": "code",
      "source": [
        "from dataclasses import dataclass\n",
        "\n",
        "@dataclass\n",
        "class Person:\n",
        "  name:str\n",
        "  age:int\n",
        "  profession:str"
      ],
      "metadata": {
        "id": "i9IxqD5Scb_Q"
      },
      "execution_count": 2,
      "outputs": []
    },
    {
      "cell_type": "code",
      "source": [
        "person1 =  Person(\"John\", 30, \"Engineer\")"
      ],
      "metadata": {
        "id": "9zD_6yZ0eW8l"
      },
      "execution_count": 3,
      "outputs": []
    },
    {
      "cell_type": "code",
      "source": [
        "person1"
      ],
      "metadata": {
        "colab": {
          "base_uri": "https://localhost:8080/"
        },
        "id": "Qh8DmK43fY8E",
        "outputId": "d89cd672-3171-487a-e899-c76b489619a3"
      },
      "execution_count": 4,
      "outputs": [
        {
          "output_type": "execute_result",
          "data": {
            "text/plain": [
              "Person(name='John', age=30, profession='Engineer')"
            ]
          },
          "metadata": {},
          "execution_count": 4
        }
      ]
    },
    {
      "cell_type": "code",
      "source": [
        "@dataclass\n",
        "class Rectangle:\n",
        "  width:int\n",
        "  height:int\n",
        "  color:str='white'"
      ],
      "metadata": {
        "id": "KruZlTiZfnNB"
      },
      "execution_count": 5,
      "outputs": []
    },
    {
      "cell_type": "code",
      "source": [
        "rectangle1 = Rectangle(10, 20)\n",
        "rectangle2 = Rectangle(10, 24, 'red')\n",
        "rectangle2"
      ],
      "metadata": {
        "colab": {
          "base_uri": "https://localhost:8080/"
        },
        "id": "PEDzyLSwgC4I",
        "outputId": "aa08e346-46d0-4915-d9d4-5c65661dbea0"
      },
      "execution_count": 6,
      "outputs": [
        {
          "output_type": "execute_result",
          "data": {
            "text/plain": [
              "Rectangle(width=10, height=24, color='red')"
            ]
          },
          "metadata": {},
          "execution_count": 6
        }
      ]
    },
    {
      "cell_type": "code",
      "source": [
        "@dataclass(frozen=True)\n",
        "class Point:\n",
        "  x:int\n",
        "  y:int"
      ],
      "metadata": {
        "id": "JLGfztydgOnO"
      },
      "execution_count": 7,
      "outputs": []
    },
    {
      "cell_type": "code",
      "source": [
        "point =  Point(10, 20)\n",
        "point"
      ],
      "metadata": {
        "colab": {
          "base_uri": "https://localhost:8080/"
        },
        "id": "wkMQc_2ng69s",
        "outputId": "8b25ba32-2dea-4a9d-daf2-4c98947fa428"
      },
      "execution_count": 8,
      "outputs": [
        {
          "output_type": "execute_result",
          "data": {
            "text/plain": [
              "Point(x=10, y=20)"
            ]
          },
          "metadata": {},
          "execution_count": 8
        }
      ]
    },
    {
      "cell_type": "code",
      "source": [
        "# Inheritance"
      ],
      "metadata": {
        "id": "qGIDs1mfg_HL"
      },
      "execution_count": 9,
      "outputs": []
    },
    {
      "cell_type": "code",
      "source": [
        "@dataclass\n",
        "class Person:\n",
        "  name:str\n",
        "  age:int\n",
        "@dataclass\n",
        "class Student(Person):\n",
        "  student_id:str\n",
        "  dept:str\n"
      ],
      "metadata": {
        "id": "uXMf56LqhBuj"
      },
      "execution_count": 10,
      "outputs": []
    },
    {
      "cell_type": "code",
      "source": [
        "person = Person(\"John\", 30)\n",
        "student = Student(\"boy\", 21, \"12345\", \"Computer Science\")"
      ],
      "metadata": {
        "id": "3ubQi9lJhzvv"
      },
      "execution_count": 11,
      "outputs": []
    },
    {
      "cell_type": "code",
      "source": [
        "student"
      ],
      "metadata": {
        "colab": {
          "base_uri": "https://localhost:8080/"
        },
        "id": "RpM38C1Yh6Sp",
        "outputId": "13a89c03-9660-4ab7-8fed-7ef9b18fbaed"
      },
      "execution_count": 12,
      "outputs": [
        {
          "output_type": "execute_result",
          "data": {
            "text/plain": [
              "Student(name='boy', age=21, student_id='12345', dept='Computer Science')"
            ]
          },
          "metadata": {},
          "execution_count": 12
        }
      ]
    },
    {
      "cell_type": "code",
      "source": [
        "# Nested Dataclasses\n",
        "\n",
        "@dataclass\n",
        "class Address:\n",
        "  street:str\n",
        "  city:str\n",
        "  state:str\n",
        "  zip:str\n",
        "@dataclass\n",
        "class Person:\n",
        "  name:str\n",
        "  age:int\n",
        "  address:Address"
      ],
      "metadata": {
        "id": "t1XJPIIdiI72"
      },
      "execution_count": 13,
      "outputs": []
    },
    {
      "cell_type": "code",
      "source": [
        "address = Address(\"123 Main St\", \"Anytown\", \"CA\", \"12345\")\n",
        "person = Person(\"John\", 30, address)"
      ],
      "metadata": {
        "id": "USJ8jNAfjeT5"
      },
      "execution_count": 14,
      "outputs": []
    },
    {
      "cell_type": "code",
      "source": [
        "person.address"
      ],
      "metadata": {
        "colab": {
          "base_uri": "https://localhost:8080/"
        },
        "id": "jZrVf3Tzjp3I",
        "outputId": "b3a73356-3899-4c82-ed9d-a3f44811ccfa"
      },
      "execution_count": 15,
      "outputs": [
        {
          "output_type": "execute_result",
          "data": {
            "text/plain": [
              "Address(street='123 Main St', city='Anytown', state='CA', zip='12345')"
            ]
          },
          "metadata": {},
          "execution_count": 15
        }
      ]
    },
    {
      "cell_type": "code",
      "source": [],
      "metadata": {
        "id": "kw6H37BUjtna"
      },
      "execution_count": null,
      "outputs": []
    }
  ]
}