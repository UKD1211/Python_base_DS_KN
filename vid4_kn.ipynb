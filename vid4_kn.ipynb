{
  "nbformat": 4,
  "nbformat_minor": 0,
  "metadata": {
    "colab": {
      "provenance": []
    },
    "kernelspec": {
      "name": "python3",
      "display_name": "Python 3"
    },
    "language_info": {
      "name": "python"
    }
  },
  "cells": [
    {
      "cell_type": "code",
      "execution_count": null,
      "metadata": {
        "id": "3HhIjcikgAXx"
      },
      "outputs": [],
      "source": [
        "# Python Operators"
      ]
    },
    {
      "cell_type": "code",
      "source": [
        "bool(1)\n"
      ],
      "metadata": {
        "colab": {
          "base_uri": "https://localhost:8080/"
        },
        "id": "p7pPHRsagFf0",
        "outputId": "6cf9c136-adda-486a-9de0-4d071eb30e6a"
      },
      "execution_count": 1,
      "outputs": [
        {
          "output_type": "execute_result",
          "data": {
            "text/plain": [
              "True"
            ]
          },
          "metadata": {},
          "execution_count": 1
        }
      ]
    },
    {
      "cell_type": "code",
      "source": [
        "a=True\n",
        "b=False\n",
        "print(a and b)"
      ],
      "metadata": {
        "colab": {
          "base_uri": "https://localhost:8080/"
        },
        "id": "muTfTDrPgspD",
        "outputId": "a08b6224-f3bc-4358-9b53-27c47925e1eb"
      },
      "execution_count": 2,
      "outputs": [
        {
          "output_type": "stream",
          "name": "stdout",
          "text": [
            "False\n"
          ]
        }
      ]
    },
    {
      "cell_type": "code",
      "source": [
        "age=int(input(\"enter the age: \"))\n",
        "if (age>18 and age<=35):\n",
        "  print(\"you are young\")"
      ],
      "metadata": {
        "id": "0oR3Cg-Rg1FK"
      },
      "execution_count": null,
      "outputs": []
    },
    {
      "cell_type": "code",
      "source": [
        "a=\"uttam\"\n",
        "b=\"dutta\"\n",
        "a==b"
      ],
      "metadata": {
        "colab": {
          "base_uri": "https://localhost:8080/"
        },
        "id": "7a2GNzOAqOPv",
        "outputId": "b97876bf-de41-4ce4-a4da-fec5e973a839"
      },
      "execution_count": 4,
      "outputs": [
        {
          "output_type": "execute_result",
          "data": {
            "text/plain": [
              "False"
            ]
          },
          "metadata": {},
          "execution_count": 4
        }
      ]
    },
    {
      "cell_type": "code",
      "source": [
        "a=\"krish\"\n",
        "b=\"krish\"\n",
        "print(id(a))\n",
        "print(id(b))\n",
        "a is b"
      ],
      "metadata": {
        "colab": {
          "base_uri": "https://localhost:8080/"
        },
        "id": "J3qEdm9srBUL",
        "outputId": "b9e62730-4f24-4e6a-883c-fa28dd0812f1"
      },
      "execution_count": 5,
      "outputs": [
        {
          "output_type": "stream",
          "name": "stdout",
          "text": [
            "139691005936752\n",
            "139691005936752\n"
          ]
        },
        {
          "output_type": "execute_result",
          "data": {
            "text/plain": [
              "True"
            ]
          },
          "metadata": {},
          "execution_count": 5
        }
      ]
    },
    {
      "cell_type": "code",
      "source": [
        "lst=[1,2,3]\n",
        "lst1=[1,2,3]\n",
        "print(id(lst))\n",
        "print(id(lst1))\n",
        "lst is lst1"
      ],
      "metadata": {
        "id": "grcMN9Lqrluc"
      },
      "execution_count": null,
      "outputs": []
    },
    {
      "cell_type": "code",
      "source": [
        "marks=float(input(\"enter the marks\"))\n",
        "if marks>=35:\n",
        "  print(\"pass\")\n",
        "elif marks>=50 and marks<=75:\n",
        "  print(\"first\")\n",
        "elif marks>=80:\n",
        "  print(\"distinction\")\n",
        "else:\n",
        "  print(\"fail\")"
      ],
      "metadata": {
        "colab": {
          "base_uri": "https://localhost:8080/"
        },
        "id": "alnmi5Pfr_7o",
        "outputId": "cfcfe65b-71f4-48f4-8fc8-9ae22ff543ff"
      },
      "execution_count": 6,
      "outputs": [
        {
          "output_type": "stream",
          "name": "stdout",
          "text": [
            "enter the marks99\n",
            "pass\n"
          ]
        }
      ]
    },
    {
      "cell_type": "code",
      "source": [
        "48//7"
      ],
      "metadata": {
        "colab": {
          "base_uri": "https://localhost:8080/"
        },
        "id": "hC-pANdZtV1P",
        "outputId": "095bf168-c17c-4d31-b266-e531dc813390"
      },
      "execution_count": 7,
      "outputs": [
        {
          "output_type": "execute_result",
          "data": {
            "text/plain": [
              "6"
            ]
          },
          "metadata": {},
          "execution_count": 7
        }
      ]
    }
  ]
}