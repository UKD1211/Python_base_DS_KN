{
  "nbformat": 4,
  "nbformat_minor": 0,
  "metadata": {
    "colab": {
      "provenance": []
    },
    "kernelspec": {
      "name": "python3",
      "display_name": "Python 3"
    },
    "language_info": {
      "name": "python"
    }
  },
  "cells": [
    {
      "cell_type": "code",
      "execution_count": null,
      "metadata": {
        "id": "-xRypfMEzO10"
      },
      "outputs": [],
      "source": [
        "# Python Encapsulation\n",
        "# Access Modifiers - public, protected, private"
      ]
    },
    {
      "cell_type": "code",
      "source": [
        "# Access Modifiers-----> Encapsulation"
      ],
      "metadata": {
        "id": "q0tI3ads3l7M"
      },
      "execution_count": 1,
      "outputs": []
    },
    {
      "cell_type": "code",
      "source": [
        "# Private variables, as we want to hid the internal attributes"
      ],
      "metadata": {
        "id": "G2L_gS7LJL8p"
      },
      "execution_count": 2,
      "outputs": []
    },
    {
      "cell_type": "code",
      "source": [
        "class Person:\n",
        "  # this is my constructor\n",
        "  def __init__(self,name,age):\n",
        "    self.__name = name\n",
        "    self.__age = age\n",
        "\n",
        "  def  display_info(self):\n",
        "    print(f\"Name: {self.__name}, Age: {self.__age}\")"
      ],
      "metadata": {
        "id": "tc4RTuaaeRSa"
      },
      "execution_count": 3,
      "outputs": []
    },
    {
      "cell_type": "code",
      "source": [
        "person = Person('uttam',32)"
      ],
      "metadata": {
        "id": "JB8QNROPkJQF"
      },
      "execution_count": 4,
      "outputs": []
    },
    {
      "cell_type": "code",
      "source": [
        "dir(person)"
      ],
      "metadata": {
        "colab": {
          "base_uri": "https://localhost:8080/"
        },
        "id": "f4Yk3fLLkNz4",
        "outputId": "bbf32bac-3f96-424e-c993-b067aef6e9c8"
      },
      "execution_count": 5,
      "outputs": [
        {
          "output_type": "execute_result",
          "data": {
            "text/plain": [
              "['_Person__age',\n",
              " '_Person__name',\n",
              " '__class__',\n",
              " '__delattr__',\n",
              " '__dict__',\n",
              " '__dir__',\n",
              " '__doc__',\n",
              " '__eq__',\n",
              " '__format__',\n",
              " '__ge__',\n",
              " '__getattribute__',\n",
              " '__gt__',\n",
              " '__hash__',\n",
              " '__init__',\n",
              " '__init_subclass__',\n",
              " '__le__',\n",
              " '__lt__',\n",
              " '__module__',\n",
              " '__ne__',\n",
              " '__new__',\n",
              " '__reduce__',\n",
              " '__reduce_ex__',\n",
              " '__repr__',\n",
              " '__setattr__',\n",
              " '__sizeof__',\n",
              " '__str__',\n",
              " '__subclasshook__',\n",
              " '__weakref__',\n",
              " 'display_info']"
            ]
          },
          "metadata": {},
          "execution_count": 5
        }
      ]
    },
    {
      "cell_type": "code",
      "source": [
        "person._Person__age"
      ],
      "metadata": {
        "colab": {
          "base_uri": "https://localhost:8080/"
        },
        "id": "CZhTdxOJkeyL",
        "outputId": "2ac156d5-b855-4f3e-c651-32a38aca1f69"
      },
      "execution_count": 6,
      "outputs": [
        {
          "output_type": "execute_result",
          "data": {
            "text/plain": [
              "32"
            ]
          },
          "metadata": {},
          "execution_count": 6
        }
      ]
    },
    {
      "cell_type": "code",
      "source": [
        "person.display_info()"
      ],
      "metadata": {
        "colab": {
          "base_uri": "https://localhost:8080/"
        },
        "id": "Wkw3ibUVkopV",
        "outputId": "e660d2bf-0d88-49ca-e8ef-812d5d8489fe"
      },
      "execution_count": 7,
      "outputs": [
        {
          "output_type": "stream",
          "name": "stdout",
          "text": [
            "Name: uttam, Age: 32\n"
          ]
        }
      ]
    },
    {
      "cell_type": "code",
      "source": [
        "# Protected acces modifiers\n",
        "\n",
        "class Person:\n",
        "  # this is my constructor\n",
        "  def __init__(self,name,age):\n",
        "    self._name = name\n",
        "    self._age = age\n",
        "\n",
        "  def  display_info(self):\n",
        "    print(f\"Name: {self._name}, Age: {self._age}\")"
      ],
      "metadata": {
        "id": "5HFejdialzqR"
      },
      "execution_count": 8,
      "outputs": []
    },
    {
      "cell_type": "code",
      "source": [
        "person = Person('ukd',44)"
      ],
      "metadata": {
        "id": "SeTNTGm-nU7S"
      },
      "execution_count": 9,
      "outputs": []
    },
    {
      "cell_type": "code",
      "source": [
        "dir(person)"
      ],
      "metadata": {
        "colab": {
          "base_uri": "https://localhost:8080/"
        },
        "id": "6cpT9j13od76",
        "outputId": "2e54502e-2828-44e4-cc1d-5e6fdb77ce19"
      },
      "execution_count": 10,
      "outputs": [
        {
          "output_type": "execute_result",
          "data": {
            "text/plain": [
              "['__class__',\n",
              " '__delattr__',\n",
              " '__dict__',\n",
              " '__dir__',\n",
              " '__doc__',\n",
              " '__eq__',\n",
              " '__format__',\n",
              " '__ge__',\n",
              " '__getattribute__',\n",
              " '__gt__',\n",
              " '__hash__',\n",
              " '__init__',\n",
              " '__init_subclass__',\n",
              " '__le__',\n",
              " '__lt__',\n",
              " '__module__',\n",
              " '__ne__',\n",
              " '__new__',\n",
              " '__reduce__',\n",
              " '__reduce_ex__',\n",
              " '__repr__',\n",
              " '__setattr__',\n",
              " '__sizeof__',\n",
              " '__str__',\n",
              " '__subclasshook__',\n",
              " '__weakref__',\n",
              " '_age',\n",
              " '_name',\n",
              " 'display_info']"
            ]
          },
          "metadata": {},
          "execution_count": 10
        }
      ]
    },
    {
      "cell_type": "code",
      "source": [
        "person._age"
      ],
      "metadata": {
        "colab": {
          "base_uri": "https://localhost:8080/"
        },
        "id": "s-Yrub29ofQw",
        "outputId": "ac5ba463-be72-4f94-8136-a3315f26f095"
      },
      "execution_count": 11,
      "outputs": [
        {
          "output_type": "execute_result",
          "data": {
            "text/plain": [
              "44"
            ]
          },
          "metadata": {},
          "execution_count": 11
        }
      ]
    },
    {
      "cell_type": "code",
      "source": [
        "class Student(Person):\n",
        "  def __init__(self,name,age):\n",
        "    super().__init__(name,age)\n",
        "\n",
        "  def  display_info(self):\n",
        "    print(f\"Name: {self._name}, Age: {self._age}\")"
      ],
      "metadata": {
        "id": "-wldvLKRojFh"
      },
      "execution_count": 12,
      "outputs": []
    },
    {
      "cell_type": "code",
      "source": [
        "student1 = Student('uttam',32)"
      ],
      "metadata": {
        "id": "eFc4ffha11N4"
      },
      "execution_count": 13,
      "outputs": []
    },
    {
      "cell_type": "code",
      "source": [
        "student1._name"
      ],
      "metadata": {
        "colab": {
          "base_uri": "https://localhost:8080/",
          "height": 36
        },
        "id": "GQs-Slge124y",
        "outputId": "43703b93-ad8d-4fe8-cc96-8d75cc1d4568"
      },
      "execution_count": 14,
      "outputs": [
        {
          "output_type": "execute_result",
          "data": {
            "text/plain": [
              "'uttam'"
            ],
            "application/vnd.google.colaboratory.intrinsic+json": {
              "type": "string"
            }
          },
          "metadata": {},
          "execution_count": 14
        }
      ]
    },
    {
      "cell_type": "code",
      "source": [
        "# Public Access modifier\n",
        "\n",
        "class Person:\n",
        "  def __inti__(self,name,age):\n",
        "    self.name = name\n",
        "    self.age = age"
      ],
      "metadata": {
        "id": "9RooYIEq16RT"
      },
      "execution_count": 15,
      "outputs": []
    }
  ]
}